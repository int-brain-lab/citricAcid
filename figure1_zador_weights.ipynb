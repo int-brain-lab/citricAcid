{
 "cells": [
  {
   "cell_type": "code",
   "execution_count": 1,
   "metadata": {},
   "outputs": [
    {
     "name": "stdout",
     "output_type": "stream",
     "text": [
      "Connecting anneurai@datajoint.internationalbrainlab.org:3306\n",
      "Connected to https://alyx.internationalbrainlab.org as anneu\n"
     ]
    }
   ],
   "source": [
    "# GENERAL THINGS FOR COMPUTING AND PLOTTING\n",
    "import pandas as pd\n",
    "import numpy as np\n",
    "import os, sys, time\n",
    "from datetime import datetime\n",
    "from datetime import timedelta\n",
    "import scipy as sp\n",
    "\n",
    "# visualisation\n",
    "import matplotlib.pyplot as plt\n",
    "import seaborn as sns\n",
    "sns.set(style=\"ticks\", context=\"talk\")\n",
    "\n",
    "# ibl specific things\n",
    "import datajoint as dj\n",
    "from ibl_pipeline import reference, subject, action, acquisition, data, behavior\n",
    "from ibl_pipeline.analyses import behavior as behavioral_analyses\n",
    "\n",
    "# set path for saving figures\n",
    "figpath = 'figures' # put in the same folder, but add to .gitignore for now"
   ]
  },
  {
   "cell_type": "code",
   "execution_count": 2,
   "metadata": {},
   "outputs": [
    {
     "data": {
      "text/html": [
       "<div>\n",
       "<style scoped>\n",
       "    .dataframe tbody tr th:only-of-type {\n",
       "        vertical-align: middle;\n",
       "    }\n",
       "\n",
       "    .dataframe tbody tr th {\n",
       "        vertical-align: top;\n",
       "    }\n",
       "\n",
       "    .dataframe thead th {\n",
       "        text-align: right;\n",
       "    }\n",
       "</style>\n",
       "<table border=\"1\" class=\"dataframe\">\n",
       "  <thead>\n",
       "    <tr style=\"text-align: right;\">\n",
       "      <th></th>\n",
       "    </tr>\n",
       "  </thead>\n",
       "  <tbody>\n",
       "  </tbody>\n",
       "</table>\n",
       "</div>"
      ],
      "text/plain": [
       "Empty DataFrame\n",
       "Columns: []\n",
       "Index: []"
      ]
     },
     "execution_count": 2,
     "metadata": {},
     "output_type": "execute_result"
    }
   ],
   "source": [
    "########### SUBJECTS ########### \n",
    "\n",
    "subj = subject.Subject * subject.SubjectLab * subject.SubjectProject & 'lab_name=\"zadorlab\"' & 'subject_project = \"collab_citricacid\"'\n",
    "\n",
    "########### WEIGHINGS ########### \n",
    "weight_with_date = subj * action.Weighing.proj('weight', session_date='DATE(weighing_time)')\n",
    "weight_date = (dj.U('subject_uuid', 'session_date') & weight_with_date) & 'session_date > \"2020-01-01\"'\n",
    "avg_weight_date = weight_date.aggr(weight_with_date, avg_weight='AVG(weight)') \n",
    "\n",
    "b = subj * avg_weight_date \n",
    "#bb = subj * avg_baseline_weight_date\n",
    "weight_df = pd.DataFrame(b.fetch(as_dict=True))\n",
    "#baseline_df = pd.DataFrame(bb.fetch(as_dict=True))\n",
    "weight_df.tail(n=5)"
   ]
  },
  {
   "cell_type": "code",
   "execution_count": 14,
   "metadata": {},
   "outputs": [
    {
     "name": "stderr",
     "output_type": "stream",
     "text": [
      "/anaconda3/envs/djenv/lib/python3.7/site-packages/ipykernel_launcher.py:10: SettingWithCopyWarning: \n",
      "A value is trying to be set on a copy of a slice from a DataFrame.\n",
      "Try using .loc[row_indexer,col_indexer] = value instead\n",
      "\n",
      "See the caveats in the documentation: http://pandas.pydata.org/pandas-docs/stable/user_guide/indexing.html#returning-a-view-versus-a-copy\n",
      "  # Remove the CWD from sys.path while we load stuff.\n"
     ]
    },
    {
     "data": {
      "text/plain": [
       "['ZFM-00892', 'ZFM-00893', 'ZFM-00894']"
      ]
     },
     "execution_count": 14,
     "metadata": {},
     "output_type": "execute_result"
    }
   ],
   "source": [
    "########### WEIGHINGS NORMALIZATION and ########### \n",
    "########### CONVERSION OF SESSION DATES INTO SESSION NUMBERS ########### \n",
    "\n",
    "normalized_df = weight_df.copy()\n",
    "# day 0 is the start of the experiment\n",
    "normalized_df['session_day'] = (normalized_df['session_date'] - (datetime(2020, 3, 1)).date()).dt.days\n",
    "\n",
    "normalized2 = pd.DataFrame([])\n",
    "for index, sjdat in normalized_df.groupby(['subject_uuid']):\n",
    "    sjdat['avg_weight'] = sjdat['avg_weight'] / sjdat.loc[sjdat.session_day < 1, 'avg_weight'].mean()\n",
    "    normalized2 = normalized2.append(sjdat)\n",
    "\n",
    "########### CONDITIONS ########### \n",
    "CA = 'Citric Acid'\n",
    "# condition_map = {'ZFM-00892':CA, 'ZFM-00893':CA, 'ZFM-00894' :CA}\n",
    "\n",
    "normalized2['condition'] = normalized2.subject_nickname.map(condition_map)\n",
    "\n",
    "# choose only these animals\n",
    "normalized2 = normalized2.loc[normalized2.subject_nickname.isin(condition_map.keys()), :]\n",
    "sorted(normalized2.subject_nickname.unique())"
   ]
  },
  {
   "cell_type": "code",
   "execution_count": 15,
   "metadata": {},
   "outputs": [
    {
     "data": {
      "image/png": "[encoded data removed]",
      "text/plain": [
       "<Figure size 288x288 with 1 Axes>"
      ]
     },
     "metadata": {
      "needs_background": "light"
     },
     "output_type": "display_data"
    }
   ],
   "source": [
    "palette = sns.xkcd_palette(['raspberry'])\n",
    "f, ax = plt.subplots(ncols=1, nrows=1, figsize=(4, 4))\n",
    "    \n",
    "sns.lineplot(x=\"session_day\", y=\"avg_weight\", color=\"crimson\",\n",
    "             estimator=np.mean, err_style='bars', marker='o',\n",
    "             ci=68, data=normalized2, ax=ax, legend=False)\n",
    "ax.set_xlabel(\"Days from protocol start\")    \n",
    "ax.set_ylabel(\"$\\Delta$ Weight\")     \n",
    "ax.set(ylim=[0.79, 1.12], yticks=[0.8, 0.9, 1, 1.1])\n",
    "ax.text(-5, 0.85, 'n = 3', {'color':'k', 'fontsize':16})\n",
    "\n",
    "f.tight_layout()\n",
    "sns.despine(trim=True)\n",
    "\n",
    "f.savefig(os.path.join(figpath, \"citricacid_weights_zadorlab.pdf\"))"
   ]
  },
  {
   "cell_type": "code",
   "execution_count": null,
   "metadata": {},
   "outputs": [],
   "source": []
  }
 ],
 "metadata": {
  "kernelspec": {
   "display_name": "Python [conda env:djenv] *",
   "language": "python",
   "name": "conda-env-djenv-py"
  },
  "language_info": {
   "codemirror_mode": {
    "name": "ipython",
    "version": 3
   },
   "file_extension": ".py",
   "mimetype": "text/x-python",
   "name": "python",
   "nbconvert_exporter": "python",
   "pygments_lexer": "ipython3",
   "version": "3.7.4"
  }
 },
 "nbformat": 4,
 "nbformat_minor": 2
}
