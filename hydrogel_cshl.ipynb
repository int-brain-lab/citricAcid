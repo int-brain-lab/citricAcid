{
 "cells": [
  {
   "cell_type": "code",
   "execution_count": 1,
   "metadata": {},
   "outputs": [
    {
     "name": "stdout",
     "output_type": "stream",
     "text": [
      "Connecting anneurai@datajoint.internationalbrainlab.org:3306\n"
     ]
    }
   ],
   "source": [
    "# GENERAL THINGS FOR COMPUTING AND PLOTTING\n",
    "import pandas as pd\n",
    "import numpy as np\n",
    "import os, sys, time\n",
    "from datetime import datetime\n",
    "from datetime import timedelta\n",
    "import scipy as sp\n",
    "\n",
    "# visualisation\n",
    "import matplotlib.pyplot as plt\n",
    "import seaborn as sns\n",
    "sns.set(style=\"ticks\", context=\"talk\")\n",
    "\n",
    "# ibl specific things\n",
    "import datajoint as dj\n",
    "from ibl_pipeline import reference, subject, action, acquisition, data, behavior\n",
    "from ibl_pipeline.analyses import behavior as behavioral_analyses\n",
    "\n",
    "# set path for saving figures\n",
    "figpath = 'figures' # put in the same folder, but add to .gitignore for now"
   ]
  },
  {
   "cell_type": "code",
   "execution_count": 2,
   "metadata": {},
   "outputs": [
    {
     "name": "stdout",
     "output_type": "stream",
     "text": [
      "Empty DataFrame\n",
      "Columns: [subject_uuid, session_date, subject_nickname, sex, subject_birth_date, ear_mark, subject_line, subject_source, protocol_number, subject_description, subject_ts, subject_strain, avg_weight, session_day, condition]\n",
      "Index: []\n"
     ]
    },
    {
     "name": "stderr",
     "output_type": "stream",
     "text": [
      "/anaconda3/envs/iblenv/lib/python3.6/site-packages/ipykernel_launcher.py:25: SettingWithCopyWarning: \n",
      "A value is trying to be set on a copy of a slice from a DataFrame\n",
      "\n",
      "See the caveats in the documentation: https://pandas.pydata.org/pandas-docs/stable/user_guide/indexing.html#returning-a-view-versus-a-copy\n"
     ]
    },
    {
     "name": "stdout",
     "output_type": "stream",
     "text": [
      "['IBL_18', 'IBL_19', 'IBL_20', 'IBL_21', 'IBL_22', 'IBL_23', 'IBL_24', 'IBL_25', 'IBL_26', 'IBL_27']\n",
      "['IBL_13', 'IBL_14', 'IBL_15', 'IBL_16', 'IBL_17']\n"
     ]
    },
    {
     "name": "stderr",
     "output_type": "stream",
     "text": [
      "/anaconda3/envs/iblenv/lib/python3.6/site-packages/ipykernel_launcher.py:43: SettingWithCopyWarning: \n",
      "A value is trying to be set on a copy of a slice from a DataFrame\n",
      "\n",
      "See the caveats in the documentation: https://pandas.pydata.org/pandas-docs/stable/user_guide/indexing.html#returning-a-view-versus-a-copy\n"
     ]
    }
   ],
   "source": [
    "# FIND THE DATA WE NEED\n",
    "# BATCH 4\n",
    "\n",
    "# get date for each weighing\n",
    "weight_with_date = action.Weighing.proj('weight', session_date='DATE(weighing_time)')\n",
    "weight_date = (dj.U('subject_uuid', 'session_date') & weight_with_date)\n",
    "avg_weight_date = weight_date.aggr(weight_with_date, avg_weight='AVG(weight)')\n",
    "\n",
    "batch4 = subject.Subject() & 'subject_nickname IN (\"IBL_13\", \"IBL_14\", \"IBL_15\", \"IBL_16\", \"IBL_17\")'\n",
    "b = batch4 * (avg_weight_date & 'session_date BETWEEN \"2018-08-05\" AND \"2018-09-12\"')\n",
    "df_batch4 = pd.DataFrame(b.fetch(as_dict=True, order_by='subject_nickname, session_date'))\n",
    "df_batch4['session_day'] = (df_batch4['session_date'] - df_batch4['session_date'].min()).dt.days\n",
    "\n",
    "# map onto conditions: see https://docs.google.com/spreadsheets/d/1jzaMEiuRPmbd6cu15IpWFyGqUkuHvlzF31b6ljAP5mc/edit#gid=420909701\n",
    "bins = [np.datetime64('2018-08-05'), np.datetime64('2018-08-10'), np.datetime64('2018-08-17'), \n",
    "        np.datetime64('2018-08-28'), np.datetime64('2018-09-11')]\n",
    "names = [1, 2, 4, 6]\n",
    "df_batch4['condition'] = pd.cut(df_batch4.session_date, bins, labels=names)\n",
    "tmpdf = df_batch4.loc[df_batch4.avg_weight > 30, :]\n",
    "\n",
    "print(tmpdf)\n",
    "\n",
    "# baseline correct with the first two days\n",
    "for index, group in df_batch4.groupby(['subject_nickname']):\n",
    "      df_batch4['avg_weight'][df_batch4.index.isin(group.index)] =  group['avg_weight'] / group[group['condition'] == 1]['avg_weight'].values.mean()\n",
    "\n",
    "###### the other batch\n",
    "batch2 = subject.Subject() & 'subject_nickname IN (\"IBL_18\", \"IBL_19\", \"IBL_20\", \"IBL_21\", \"IBL_22\", \"IBL_23\", \"IBL_24\", \"IBL_25\", \"IBL_26\", \"IBL_27\")'\n",
    "b = batch2 * (avg_weight_date & 'session_date BETWEEN \"2018-08-09\" AND \"2018-10-05\"')\n",
    "df_batch2 = pd.DataFrame(b.fetch(as_dict=True))\n",
    "df_batch2['session_day'] = (df_batch2['session_date'] - df_batch2['session_date'].min()).dt.days\n",
    "\n",
    "# map onto conditions\n",
    "# Q: where is this info?\n",
    "bins = [np.datetime64('2018-08-07'), np.datetime64('2018-08-24'), \n",
    "        np.datetime64('2018-09-17'), np.datetime64('2018-10-05')]\n",
    "names = [1, 6, 5]\n",
    "df_batch2['condition'] = pd.cut(df_batch2.session_date, bins, labels=names)\n",
    "df_batch2 = df_batch2[df_batch2.session_day != 12] # hack\n",
    "\n",
    "# baseline correct with the first two days\n",
    "for index, group in df_batch2.groupby(['subject_nickname']):\n",
    "     df_batch2['avg_weight'][df_batch2.index.isin(group.index)] = group['avg_weight']/ group[group['condition'] == 1]['avg_weight'].values.mean()\n",
    "        \n",
    "print(sorted(df_batch2.subject_nickname.unique()))\n",
    "print(sorted(df_batch4.subject_nickname.unique()))"
   ]
  },
  {
   "cell_type": "code",
   "execution_count": 3,
   "metadata": {},
   "outputs": [
    {
     "name": "stdout",
     "output_type": "stream",
     "text": [
      "done\n"
     ]
    }
   ],
   "source": [
    "## PLOT #####\n",
    "palette = sns.cubehelix_palette(4)\n",
    "blue = sns.xkcd_palette(['azure'])\n",
    "palette[0] = blue[0]\n",
    "\n",
    "f, ax = plt.subplots(ncols=1, nrows=2, figsize=(5, 7), sharey=True)\n",
    "sns.lineplot(x=\"session_day\", y=\"avg_weight\",  units='subject_nickname', estimator=None, \n",
    "             data=df_batch4, ax=ax[0], legend=False, color='lightgrey')\n",
    "sns.lineplot(x=\"session_day\", y=\"avg_weight\", hue='condition', marker='o', ms=5,\n",
    "             linewidth=0, units='subject_nickname', estimator=None, err_style='bars', \n",
    "             data=df_batch4, ax=ax[0], legend=False, palette=palette)\n",
    "ax[0].set_xlabel(\"Days\")    \n",
    "ax[0].set_ylabel(\"Weight (normalized)\")    \n",
    "ax[0].set_ylim([0.8, 1.35])\n",
    "ax[0].set_title('Cohort 4, n = 5 (15 months)', fontsize=16, fontstyle='italic')\n",
    "\n",
    "ax[0].annotate('1 mL/day', xy=(0, 0.95), xytext=(0, 0.85), color=blue[0], fontsize=14,\n",
    "              arrowprops=dict(facecolor='lightgrey', shrink=0.05))\n",
    "ax[0].annotate('2% CA HydroGel', xy=(5, 1.02), xytext=(5, 0.90), color=palette[1], fontsize=14,\n",
    "              arrowprops=dict(facecolor='lightgrey', shrink=0.05))\n",
    "ax[0].annotate('4% CA HydroGel', xy=(13, 1.13), xytext=(13, 0.95), color=palette[2], fontsize=14,\n",
    "              arrowprops=dict(facecolor='lightgrey', shrink=0.05))\n",
    "ax[0].annotate('6% CA HydroGel', xy=(23, 1.12), xytext=(23, 1), color=palette[3], fontsize=14,\n",
    "              arrowprops=dict(facecolor='lightgrey', shrink=0.05))\n",
    "\n",
    "\n",
    "### second panel\n",
    "palette = sns.cubehelix_palette(5)\n",
    "sns.lineplot(x=\"session_day\", y=\"avg_weight\",  units='subject_nickname', estimator=None, \n",
    "             data=df_batch2, ax=ax[1], legend=False, color='lightgrey')\n",
    "sns.lineplot(x=\"session_day\", y=\"avg_weight\", hue='condition', marker='o', ms=5,\n",
    "             linewidth=0, units='subject_nickname', estimator=None, err_style='bars', \n",
    "             data=df_batch2, ax=ax[1], legend=False, palette=sns.cubehelix_palette(3))\n",
    "ax[1].set_xlabel(\"Days\")    \n",
    "ax[1].set_ylabel(\"Weight (normalized)\")  \n",
    "ax[1].set_title('Cohort 5, n = 10 (15-16 months)', fontsize=16, fontstyle='italic')\n",
    "\n",
    "ax[1].annotate('1% CA water', xy=(0, 1.1), xytext=(0, 1.2), color=palette[0], fontsize=14,\n",
    "              arrowprops=dict(facecolor='lightgrey', shrink=0.05))\n",
    "ax[1].annotate('6% CA HydroGel', xy=(16, 1.03), xytext=(10, 1.13), color=palette[4], fontsize=14,\n",
    "              arrowprops=dict(facecolor='lightgrey', shrink=0.05))\n",
    "ax[1].annotate('5% CA HydroGel', xy=(41, 1.1), xytext=(39, 1.18), color=palette[3], fontsize=14,\n",
    "              arrowprops=dict(facecolor='lightgrey', shrink=0.05))\n",
    "\n",
    "# SAVE\n",
    "f.tight_layout()\n",
    "sns.despine(trim=True)\n",
    "f.savefig(os.path.join(figpath, \"citricacid_study3.pdf\"))\n",
    "f.savefig(os.path.join(figpath, \"citricacid_study3.png\"), dpi=600)\n",
    "plt.close('all')\n",
    "print('done')"
   ]
  },
  {
   "cell_type": "code",
   "execution_count": null,
   "metadata": {},
   "outputs": [],
   "source": []
  }
 ],
 "metadata": {
  "kernelspec": {
   "display_name": "Python [conda env:iblenv] *",
   "language": "python",
   "name": "conda-env-iblenv-py"
  },
  "language_info": {
   "codemirror_mode": {
    "name": "ipython",
    "version": 3
   },
   "file_extension": ".py",
   "mimetype": "text/x-python",
   "name": "python",
   "nbconvert_exporter": "python",
   "pygments_lexer": "ipython3",
   "version": "3.6.10"
  }
 },
 "nbformat": 4,
 "nbformat_minor": 2
}
