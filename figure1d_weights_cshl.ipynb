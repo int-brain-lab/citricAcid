{
 "cells": [
  {
   "cell_type": "code",
   "execution_count": 7,
   "metadata": {},
   "outputs": [],
   "source": [
    "# GENERAL THINGS FOR COMPUTING AND PLOTTING\n",
    "import pandas as pd\n",
    "import numpy as np\n",
    "import os, sys, time\n",
    "from datetime import datetime\n",
    "from datetime import timedelta\n",
    "import scipy as sp\n",
    "\n",
    "# visualisation\n",
    "import matplotlib.pyplot as plt\n",
    "import seaborn as sns\n",
    "sns.set(style=\"ticks\", context=\"talk\")\n",
    "\n",
    "# ibl specific things\n",
    "import datajoint as dj\n",
    "from ibl_pipeline import reference, subject, action, acquisition, data, behavior\n",
    "from ibl_pipeline.analyses import behavior as behavioral_analyses\n",
    "\n",
    "# set path for saving figures\n",
    "figpath = 'figures' # put in the same folder, but add to .gitignore for now"
   ]
  },
  {
   "cell_type": "code",
   "execution_count": 8,
   "metadata": {},
   "outputs": [
    {
     "data": {
      "text/plain": [
       "['CSHL022',\n",
       " 'CSHL024',\n",
       " 'CSHL025',\n",
       " 'CSHL026',\n",
       " 'CSHL027',\n",
       " 'CSHL029',\n",
       " 'CSHL031',\n",
       " 'CSHL045',\n",
       " 'CSHL046',\n",
       " 'CSHL058',\n",
       " 'CSHL059',\n",
       " 'CSHL060',\n",
       " 'CSHL061',\n",
       " 'CSHL062',\n",
       " 'CSHL063',\n",
       " 'CSHL064',\n",
       " 'CSHL065',\n",
       " 'CSHL066',\n",
       " 'CSHL067',\n",
       " 'CSHL068',\n",
       " 'CSHL069',\n",
       " 'CSHL070',\n",
       " 'CSHL071',\n",
       " 'CSHL072',\n",
       " 'CSHL073',\n",
       " 'CSHL074',\n",
       " 'CSHL075',\n",
       " 'CSHL_018',\n",
       " 'CSHL_019']"
      ]
     },
     "execution_count": 8,
     "metadata": {},
     "output_type": "execute_result"
    }
   ],
   "source": [
    "########### SUBJECTS ########### \n",
    "\n",
    "subj = subject.Subject * subject.SubjectLab  & 'lab_name=\"churchlandlab\"'\n",
    "\n",
    "########### WEIGHINGS ########### \n",
    "# grab the data from the start of baseline weights until lab shutdown\n",
    "weight_with_date = subj * action.Weighing.proj('weight', session_date='DATE(weighing_time)')\n",
    "weight_date = (dj.U('subject_uuid', 'session_date') & weight_with_date) \\\n",
    "& 'session_date BETWEEN \"2020-02-22\" AND \"2020-03-31\"'\n",
    "#baseline_date = (dj.U('subject_uuid', 'session_date') & weight_with_date) & 'session_date < \"2020-02-25\"'\n",
    "\n",
    "avg_weight_date = weight_date.aggr(weight_with_date, avg_weight='AVG(weight)') \n",
    "#avg_baseline_weight_date = baseline_date.aggr(weight_with_date, avg_weight = 'AVG(weight)')\n",
    "\n",
    "b = subj * avg_weight_date \n",
    "#bb = subj * avg_baseline_weight_date\n",
    "weight_df = pd.DataFrame(b.fetch(as_dict=True))\n",
    "#baseline_df = pd.DataFrame(bb.fetch(as_dict=True))\n",
    "sorted(weight_df.subject_nickname.unique())"
   ]
  },
  {
   "cell_type": "code",
   "execution_count": 9,
   "metadata": {},
   "outputs": [],
   "source": [
    "## save to file for archiving\n",
    "weight_df[['subject_uuid', 'subject_nickname', 'subject_birth_date', 'sex', 'subject_strain','subject_line', \n",
    "           'session_date', 'avg_weight']].to_csv('data/figure1D_cshl_weights.csv')"
   ]
  },
  {
   "cell_type": "code",
   "execution_count": 10,
   "metadata": {},
   "outputs": [],
   "source": [
    "########### WEIGHINGS NORMALIZATION and ########### \n",
    "########### CONVERSION OF SESSION DATES INTO SESSION NUMBERS ########### \n",
    "\n",
    "normalized_df = weight_df.copy()\n",
    "\n",
    "#  how old are these mice on the first day of the intervention?\n",
    "# 3 March was the first day with CA water\n",
    "normalized_df['session_age'] = (datetime(2020, 3, 2).date() - normalized_df.subject_birth_date)\n",
    "normalized_df['session_age'].describe()\n",
    "\n",
    "########### ADD JAX DATA ########### \n",
    "jax_weights = pd.read_csv('data/jax_mouse_weights.csv')\n",
    "jax_weights.head(n=3)\n",
    "\n",
    "for weeknr, group in jax_weights.groupby(['Weeks']):\n",
    "    \n",
    "    if 44 <= group.Weeks.mean().item() <= 47:\n",
    "        normalized_df = normalized_df.append({'subject_nickname':'Jax_male',\n",
    "                              'sex':'M',\n",
    "                              'session_date':datetime(2020, 3, 2).date() + \n",
    "                                              timedelta(days=(group.Weeks.mean().item() - 44) * 7),\n",
    "                              'avg_weight':group.Males.mean().item()}, ignore_index=True)\n",
    "        \n",
    "        normalized_df = normalized_df.append({'subject_nickname':'Jax_female',\n",
    "                              'sex':'F',\n",
    "                              'session_date':datetime(2020, 3, 2).date() + \n",
    "                                              timedelta(days=(group.Weeks.mean().item() - 44) * 7),\n",
    "                              'avg_weight':group.Females.mean().item()}, ignore_index=True)\n",
    "normalized_df\n",
    "# day 0 is the start of the experiment\n",
    "normalized_df['session_day'] = (normalized_df['session_date'] - (datetime(2020, 3, 2)).date()).dt.days\n"
   ]
  },
  {
   "cell_type": "code",
   "execution_count": 11,
   "metadata": {},
   "outputs": [
    {
     "name": "stderr",
     "output_type": "stream",
     "text": [
      "/anaconda3/envs/iblenv/lib/python3.6/site-packages/ipykernel_launcher.py:3: SettingWithCopyWarning: \n",
      "A value is trying to be set on a copy of a slice from a DataFrame.\n",
      "Try using .loc[row_indexer,col_indexer] = value instead\n",
      "\n",
      "See the caveats in the documentation: https://pandas.pydata.org/pandas-docs/stable/user_guide/indexing.html#returning-a-view-versus-a-copy\n",
      "  This is separate from the ipykernel package so we can avoid doing imports until\n"
     ]
    },
    {
     "data": {
      "text/plain": [
       "array(['CSHL063', 'CSHL065', 'CSHL066', 'CSHL067', 'CSHL068', 'CSHL069',\n",
       "       'CSHL070', 'CSHL072', 'CSHL073', 'CSHL074', 'CSHL075',\n",
       "       'Jax_female', 'Jax_male'], dtype=object)"
      ]
     },
     "execution_count": 11,
     "metadata": {},
     "output_type": "execute_result"
    }
   ],
   "source": [
    "normalized2 = pd.DataFrame([])\n",
    "for index, sjdat in normalized_df.groupby(['subject_nickname']):\n",
    "    sjdat['avg_weight'] = sjdat['avg_weight'] / sjdat.loc[sjdat.session_day < 1, 'avg_weight'].mean()\n",
    "    normalized2 = normalized2.append(sjdat)\n",
    "\n",
    "########### CONDITIONS ########### \n",
    "CA = 'Citric Acid'\n",
    "Jax = 'Jax'\n",
    "\n",
    "# condition_map = {'CSHL061':CA, 'CSHL062':CA, 'CSHL063':CA, 'CSHL064':CA, \n",
    "# 'CSHL065': CA, 'CSHL066':CA, 'CSHL067':CA, 'CSHL068':CA, 'CSHL069':CA,\n",
    "# 'CSHL070':CA, 'CSHL071':CA, 'CSHL072':CA, 'CSHL073':CA, \n",
    "# 'CSHL074':CA, 'CSHL075':CA}\n",
    "# 071 was overweight at the start\n",
    "# CSHL061, 062, 064 had surgery during the CA experiment - exclude\n",
    "\n",
    "# remove mice that have dropped out\n",
    "condition_map = {'CSHL063':CA, 'CSHL065': CA, 'CSHL066':CA, 'CSHL067':CA, 'CSHL068':CA, 'CSHL069':CA,\n",
    "                 'CSHL070':CA, 'CSHL072':CA, 'CSHL073':CA, 'CSHL074':CA, 'CSHL075':CA, \n",
    "                 'Jax_male':Jax, 'Jax_female':Jax}\n",
    "\n",
    "normalized2['condition'] = normalized2.subject_nickname.map(condition_map)\n",
    "\n",
    "# choose only these animals\n",
    "normalized2 = normalized2.loc[normalized2.subject_nickname.isin(condition_map.keys()), :]\n",
    "normalized2.groupby(['subject_nickname'])['sex'].unique()\n",
    "normalized2['subject_nickname'].unique()\n",
    "#normalized2.groupby(['sex'])['subject_nickname'].unique()\n",
    "#normalized2.subject_nickname.nunique()"
   ]
  },
  {
   "cell_type": "code",
   "execution_count": 12,
   "metadata": {},
   "outputs": [],
   "source": [
    "# # compute age range\n",
    "# normalized_df['session_age'] = (normalized_df.session_date - normalized_df.subject_birth_date)\n",
    "# normalized_df.session_age.describe()"
   ]
  },
  {
   "cell_type": "code",
   "execution_count": 13,
   "metadata": {},
   "outputs": [
    {
     "data": {
      "text/plain": [
       "count    244.000000\n",
       "mean       0.894621\n",
       "std        0.080425\n",
       "min        0.716134\n",
       "25%        0.825746\n",
       "50%        0.886780\n",
       "75%        0.986811\n",
       "max        1.043427\n",
       "Name: avg_weight, dtype: float64"
      ]
     },
     "execution_count": 13,
     "metadata": {},
     "output_type": "execute_result"
    }
   ],
   "source": [
    "# what's the maximum weight loss?\n",
    "normalized2.avg_weight.describe()"
   ]
  },
  {
   "cell_type": "code",
   "execution_count": 14,
   "metadata": {},
   "outputs": [
    {
     "data": {
      "text/plain": [
       "subject_nickname\n",
       "CSHL063       0.716134\n",
       "CSHL065       0.788118\n",
       "CSHL066       0.801421\n",
       "CSHL067       0.767575\n",
       "CSHL068       0.787897\n",
       "CSHL069       0.771154\n",
       "CSHL070       0.810255\n",
       "CSHL072       0.770467\n",
       "CSHL073       0.797905\n",
       "CSHL074       0.867459\n",
       "CSHL075       0.830707\n",
       "Jax_female    1.000000\n",
       "Jax_male      1.000000\n",
       "Name: avg_weight, dtype: float64"
      ]
     },
     "execution_count": 14,
     "metadata": {},
     "output_type": "execute_result"
    }
   ],
   "source": [
    "normalized2.groupby(['subject_nickname'])['avg_weight'].min()"
   ]
  },
  {
   "cell_type": "code",
   "execution_count": 15,
   "metadata": {},
   "outputs": [
    {
     "data": {
      "image/png": "[encoded data removed]",
      "text/plain": [
       "<Figure size 259.2x324 with 1 Axes>"
      ]
     },
     "metadata": {},
     "output_type": "display_data"
    }
   ],
   "source": [
    "# REMOVE ONE OVERWEIGHT MOUSE\n",
    "#normalized3 = normalized2[~normalized2['subject_nickname'].isin(['CSHL071'])]\n",
    "f, ax = plt.subplots(ncols=1, nrows=1, figsize=(3.6,4.5))\n",
    "    \n",
    "palette = sns.xkcd_palette(['black', 'raspberry'])\n",
    "sns.lineplot(x=\"session_day\", y=\"avg_weight\", style='condition', hue='condition',\n",
    "             markers={'Jax':'.', 'Citric Acid':'v'}, \n",
    "             err_style='bars', marker='v', hue_order=['Jax', 'Citric Acid'], dashes=False,\n",
    "             ci=68, data=normalized2, ax=ax, legend=False, palette=palette)\n",
    "ax.set_xlabel(\"Days from protocol start\")    \n",
    "ax.set_ylabel(\"Weight (normalized)\")     \n",
    "ax.set(ylim=[0.79, 1.05], yticks=[0.8, 0.9, 1], xticks=[-7, 0, 7, 14], \n",
    "       xticklabels=['', '0', '7', '14'], xlim=[-10, 17])\n",
    "#ax.text(-5, 0.85, 'n = %d'%normalized3.subject_nickname.nunique(), {'color':'k', 'fontsize':16})\n",
    "ax.set_title('Cohort 2, n = %d\\n(6-17 months old)'%(normalized2.subject_nickname.nunique()-2), \n",
    "            fontsize=16, fontstyle='italic')\n",
    "\n",
    "ax.text(3, 0.94,'Expected growth\\nC57BL/6J', {'color':palette[0], 'fontsize':14})\n",
    "ax.text(-7, 0.82,'Free\\nCA water', {'color':palette[1], 'fontsize':14})\n",
    "\n",
    "f.tight_layout()\n",
    "sns.despine(trim=True)\n",
    "f.savefig(os.path.join(figpath, \"citricacid_study1d.pdf\"))\n",
    "f.savefig(os.path.join(figpath, \"citricacid_study1d.png\"), dpi=600)"
   ]
  },
  {
   "cell_type": "code",
   "execution_count": 16,
   "metadata": {},
   "outputs": [
    {
     "data": {
      "image/png": "[encoded data removed]",
      "text/plain": [
       "<Figure size 259.2x324 with 1 Axes>"
      ]
     },
     "metadata": {},
     "output_type": "display_data"
    }
   ],
   "source": [
    "# REMOVE ONE OVERWEIGHT MOUSE\n",
    "#normalized3 = normalized2[~normalized2['subject_nickname'].isin(['CSHL071'])]\n",
    "f, ax = plt.subplots(ncols=1, nrows=1, figsize=(3.6,4.5))\n",
    "    \n",
    "palette = sns.xkcd_palette(['raspberry'])\n",
    "sns.lineplot(x=\"session_day\", y=\"avg_weight\", hue='condition', units='subject_nickname',estimator=None,\n",
    "             err_style='bars', marker='v', alpha=0.4, palette=palette,\n",
    "            markers={'Jax':'o', 'Citric Acid':'v'}, \n",
    "             style='condition', dashes=False, markersize=5,\n",
    "             hue_order=['Citric Acid'], \n",
    "             ci=68, data=normalized2, ax=ax, legend=False)\n",
    "ax.set_xlabel(\"Days from protocol start\")    \n",
    "ax.set_ylabel(\"Weight (normalized)\")     \n",
    "ax.set(ylim=[0.71, 1.15], yticks=[0.7, 0.8, 0.9, 1, 1.1],xticks=[-7, 0, 7, 14], \n",
    "       xticklabels=['', '0', '7', '14'], xlim=[-10, 17])\n",
    "#ax.text(-5, 0.85, 'n = %d'%normalized3.subject_nickname.nunique(), {'color':'k', 'fontsize':16})\n",
    "ax.set_title('Cohort 2, n = %d\\n(6-17 months old)'%(normalized2.subject_nickname.nunique()-2), \n",
    "            fontsize=16, fontstyle='italic')\n",
    "f.tight_layout()\n",
    "sns.despine(trim=True)\n",
    "f.savefig(os.path.join(figpath, \"citricacid_study1d_individualmice.pdf\"))"
   ]
  },
  {
   "cell_type": "code",
   "execution_count": 17,
   "metadata": {},
   "outputs": [
    {
     "data": {
      "text/plain": [
       "count    11.00\n",
       "mean      0.83\n",
       "std       0.04\n",
       "min       0.78\n",
       "25%       0.80\n",
       "50%       0.82\n",
       "75%       0.86\n",
       "max       0.91\n",
       "Name: avg_weight, dtype: float64"
      ]
     },
     "execution_count": 17,
     "metadata": {},
     "output_type": "execute_result"
    }
   ],
   "source": [
    "# what were the weights in the last week?\n",
    "normalized3 = normalized2.loc[(normalized2.session_day > 7) & ~(normalized2['condition'].str.contains('Jax')), \n",
    "                              :].groupby(['subject_nickname'])['avg_weight'].mean()\n",
    "normalized3.describe().round(2)"
   ]
  },
  {
   "cell_type": "code",
   "execution_count": 18,
   "metadata": {},
   "outputs": [],
   "source": [
    "thirst = pd.read_csv('data/figure1D_cshl_thirst.csv', parse_dates=['Date'])\n",
    "thirst['date'] = thirst['Date'].dt.date\n",
    "thirst['session_day'] = (thirst['date'] - (datetime(2020, 3, 2)).date()).dt.days\n",
    "\n",
    "# unstack\n",
    "thirst = pd.melt(thirst, id_vars=['session_day'], value_vars=['Avg_permouse_1', 'Av_permouse_2', \n",
    "                                                       'Avg_permouse_3'])"
   ]
  },
  {
   "cell_type": "code",
   "execution_count": 13,
   "metadata": {},
   "outputs": [],
   "source": [
    "# f, ax = plt.subplots(ncols=1, nrows=1, figsize=(4, 4))    \n",
    "# palette = sns.xkcd_palette(['black', 'raspberry'])\n",
    "# sns.lineplot(x=\"session_day\", y=\"value\", \n",
    "#              err_style='bars', marker='o', \n",
    "#              ci=68, data=thirst, ax=ax, legend=False, color=palette[1])\n",
    "# ax.set_xlabel(\"Days from protocol start\")    \n",
    "# ax.set_ylabel(\"2% CA water consumed\")     \n",
    "# ax.set(ylim=[0,6], yticks=[0, 3, 6], xticks=[-7, 0, 7, 14], xlim=[-1, 17])\n",
    "# #ax.text(-5, 0.85, 'n = %d'%normalized3.subject_nickname.nunique(), {'color':'k', 'fontsize':16})\n",
    "# ax.set_title('Cohort 3, n = %d (6-17 months)'%(normalized2.subject_nickname.nunique()-2), \n",
    "#             fontsize=16, fontstyle='italic')\n",
    "# f.tight_layout()\n",
    "# sns.despine(trim=True)\n",
    "# #f.savefig(os.path.join(figpath, \"citricacid_weights_churchlandlab.pdf\"))\n",
    "# f.savefig(os.path.join(figpath, \"suppfig2b.png\"), dpi=600)\n"
   ]
  },
  {
   "cell_type": "code",
   "execution_count": 14,
   "metadata": {},
   "outputs": [],
   "source": [
    "# #normalized3 = normalized2[~normalized2['subject_nickname'].isin(['CSHL071'])]\n",
    "# f, ax = plt.subplots(ncols=2, nrows=1, figsize=(8, 4))\n",
    "    \n",
    "# palette = sns.xkcd_palette(['black', 'raspberry'])\n",
    "# sns.lineplot(x=\"session_day\", y=\"avg_weight\", hue='condition', \n",
    "#              err_style='bars', marker='o', hue_order=['Jax', 'Citric Acid'],\n",
    "#              ci=68, data=normalized2, ax=ax[0], legend=False, palette=palette)\n",
    "# ax[0].set_xlabel(\"Days from protocol start\")    \n",
    "# ax[0].set_ylabel(\"Weight (norm.)\")     \n",
    "# ax[0].set(ylim=[0.79, 1.08], yticks=[0.8, 0.9, 1], xticks=[-7, 0, 7, 14], xlim=[-10, 17])\n",
    "# #ax.text(-5, 0.85, 'n = %d'%normalized3.subject_nickname.nunique(), {'color':'k', 'fontsize':16})\n",
    "# #ax[0].set_title()\n",
    "\n",
    "# sns.lineplot(x=\"session_day\", y=\"value\", \n",
    "#              err_style='bars', marker='o', \n",
    "#              ci=68, data=thirst, ax=ax[1], legend=False, color=palette[1])\n",
    "# ax[1].set_xlabel(\"Days from protocol start\")    \n",
    "# ax[1].set_ylabel(\"2% CA water consumed\")     \n",
    "# ax[1].set(ylim=[0,6], yticks=[0, 2, 4], xticks=[-7, 0, 7, 14], xlim=[-1, 17])\n",
    "# #ax.text(-5, 0.85, 'n = %d'%normalized3.subject_nickname.nunique(), {'color':'k', 'fontsize':16})\n",
    "# # ax=ax[1].set_title('Cohort 3, n = %d (6-17 months)'%(normalized3.subject_nickname.nunique()-2), \n",
    "# #             fontsize=16, fontstyle='italic')\n",
    "\n",
    "# f.suptitle('Cohort 3, n = %d (6-17 months)'%(normalized2.subject_nickname.nunique()-2), \n",
    "#             fontsize=16, fontstyle='italic')\n",
    "\n",
    "# f.tight_layout()\n",
    "# sns.despine(trim=True)\n",
    "# #f.savefig(os.path.join(figpath, \"citricacid_weights_churchlandlab.pdf\"))\n",
    "# f.savefig(os.path.join(figpath, \"suppfig2_2panels.png\"), dpi=600)\n"
   ]
  },
  {
   "cell_type": "code",
   "execution_count": null,
   "metadata": {},
   "outputs": [],
   "source": []
  },
  {
   "cell_type": "code",
   "execution_count": null,
   "metadata": {},
   "outputs": [],
   "source": []
  }
 ],
 "metadata": {
  "kernelspec": {
   "display_name": "Python [conda env:iblenv] *",
   "language": "python",
   "name": "conda-env-iblenv-py"
  },
  "language_info": {
   "codemirror_mode": {
    "name": "ipython",
    "version": 3
   },
   "file_extension": ".py",
   "mimetype": "text/x-python",
   "name": "python",
   "nbconvert_exporter": "python",
   "pygments_lexer": "ipython3",
   "version": "3.6.10"
  }
 },
 "nbformat": 4,
 "nbformat_minor": 2
}
